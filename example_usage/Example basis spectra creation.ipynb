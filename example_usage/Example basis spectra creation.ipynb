{
 "cells": [
  {
   "cell_type": "markdown",
   "metadata": {},
   "source": [
    "# Example basis spectra creation\n",
    "\n",
    "This notebook demos the process of creating basis spectra for fitting in FSL-MRS.\n",
    "### Contents:  \n",
    "- [1. Sequence JSON file](#1.-Sequence-JSON-file)\n",
    "    - [1.1. Defining MM](#1.1-Defining-MM)\n",
    "- [2. Simulation](#2.-Simulation)\n",
    "- [3. Visualisation](#3.-Visualisation)\n",
    "\n",
    "Will Clarke  \n",
    "June 2020  \n",
    "University of Oxford"
   ]
  },
  {
   "cell_type": "markdown",
   "metadata": {},
   "source": [
    "## 1. Sequence JSON file"
   ]
  },
  {
   "cell_type": "markdown",
   "metadata": {},
   "source": [
    "The sequence to simulate and the system parameters are descibed in a json file. The file breaks the sequence into a series of RF pulses (+ slice selcect gradients) and delays with optional rephasing gradients. A coherence filter is used to crush unwanted coherences."
   ]
  },
  {
   "cell_type": "markdown",
   "metadata": {},
   "source": [
    "## 1.1 Defining MM\n",
    "\n",
    "An experimentally measured (or otherwise derived) macromollecues basis spectrum can be included in the basis spectrum by defining an additional JSON file."
   ]
  },
  {
   "cell_type": "markdown",
   "metadata": {},
   "source": [
    "## 2. Simulation"
   ]
  },
  {
   "cell_type": "code",
   "execution_count": 4,
   "metadata": {},
   "outputs": [
    {
     "data": {
      "text/plain": [
       "[\"Identified spinsystems: ['Ala', 'Asc', 'Asp', 'GPC', 'PCh', 'Cr', 'PCr', 'GABA', 'Glc', 'Gln', 'Glu', 'GSH', 'Ins', 'Lac', 'NAA', 'NAAG', 'PE', 'Scyllo', 'Tau']\",\n",
       " 'Simulation running using mode 1d. Axis order = [0 1 2].',\n",
       " 'Auto-phase adjustment. Phasing peak position = 1.99 ppm',\n",
       " 'Rx_Phase: 2.3408',\n",
       " 'Additional phase: 0.059',\n",
       " 'Final Rx_Phase: 2.400',\n",
       " 'Running simulation on Asc.',\n",
       " 'Simulation running using mode 1d. Axis order = [0 1 2].',\n",
       " 'Running simulation on Glu.',\n",
       " 'Simulation running using mode 1d. Axis order = [0 1 2].',\n",
       " 'Running simulation on NAA.',\n",
       " 'Simulation running using mode 1d. Axis order = [0 1 2].',\n",
       " 'Simulation running using mode 1d. Axis order = [0 1 2].',\n",
       " 'Running simulation on PCr.',\n",
       " 'Simulation running using mode 1d. Axis order = [0 1 2].',\n",
       " 'Simulation running using mode 1d. Axis order = [0 1 2].',\n",
       " 'Running simulation on GSH.',\n",
       " 'Simulation running using mode 1d. Axis order = [0 1 2].',\n",
       " 'Simulation running using mode 1d. Axis order = [0 1 2].',\n",
       " 'Simulation running using mode 1d. Axis order = [0 1 2].',\n",
       " 'Running simulation on GABA.',\n",
       " 'Simulation running using mode 1d. Axis order = [0 1 2].',\n",
       " 'Running simulation on Lac.',\n",
       " 'Simulation running using mode 1d. Axis order = [0 1 2].',\n",
       " 'Running simulation on Scyllo.',\n",
       " 'Simulation running using mode 1d. Axis order = [0 1 2].',\n",
       " 'Running simulation on Tau.',\n",
       " 'Simulation running using mode 1d. Axis order = [0 1 2].',\n",
       " 'Running simulation on Cr.',\n",
       " 'Simulation running using mode 1d. Axis order = [0 1 2].',\n",
       " 'Running simulation on Ins.',\n",
       " 'Simulation running using mode 1d. Axis order = [0 1 2].',\n",
       " 'Running simulation on Ala.',\n",
       " 'Simulation running using mode 1d. Axis order = [0 1 2].',\n",
       " 'Running simulation on Gln.',\n",
       " 'Simulation running using mode 1d. Axis order = [0 1 2].',\n",
       " 'Simulation running using mode 1d. Axis order = [0 1 2].',\n",
       " 'Running simulation on NAAG.',\n",
       " 'Simulation running using mode 1d. Axis order = [0 1 2].',\n",
       " 'Simulation running using mode 1d. Axis order = [0 1 2].',\n",
       " 'Simulation running using mode 1d. Axis order = [0 1 2].',\n",
       " 'Running simulation on Asp.',\n",
       " 'Simulation running using mode 1d. Axis order = [0 1 2].',\n",
       " 'Running simulation on Glc.',\n",
       " 'Simulation running using mode 1d. Axis order = [0 1 2].',\n",
       " 'Simulation running using mode 1d. Axis order = [0 1 2].',\n",
       " 'Running simulation on PCh.',\n",
       " 'Simulation running using mode 1d. Axis order = [0 1 2].',\n",
       " 'Simulation running using mode 1d. Axis order = [0 1 2].',\n",
       " 'Running simulation on PE.',\n",
       " 'Simulation running using mode 1d. Axis order = [0 1 2].']"
      ]
     },
     "execution_count": 4,
     "metadata": {},
     "output_type": "execute_result"
    }
   ],
   "source": [
    "%sx fsl_mrs_sim -b example_data/metabs.txt \\\n",
    "                -o steam_basis \\\n",
    "                -p -2.66 \\\n",
    "                --MM example_data/macSeed.json \\\n",
    "                --overwrite \\\n",
    "                -e 11.0 \\\n",
    "                example_data/steam11.json"
   ]
  },
  {
   "cell_type": "markdown",
   "metadata": {},
   "source": [
    "## 3. Visualisation"
   ]
  },
  {
   "cell_type": "code",
   "execution_count": 9,
   "metadata": {},
   "outputs": [],
   "source": [
    "%%capture\n",
    "%sx mrs_vis --save basis_fig.png steam_basis"
   ]
  },
  {
   "cell_type": "markdown",
   "metadata": {},
   "source": [
    "![basis spectra](basis_fig.png)"
   ]
  }
 ],
 "metadata": {
  "kernelspec": {
   "display_name": "Python 3",
   "language": "python",
   "name": "python3"
  },
  "language_info": {
   "codemirror_mode": {
    "name": "ipython",
    "version": 3
   },
   "file_extension": ".py",
   "mimetype": "text/x-python",
   "name": "python",
   "nbconvert_exporter": "python",
   "pygments_lexer": "ipython3",
   "version": "3.7.7"
  }
 },
 "nbformat": 4,
 "nbformat_minor": 4
}
