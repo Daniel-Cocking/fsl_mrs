{
 "cells": [
  {
   "cell_type": "markdown",
   "metadata": {},
   "source": [
    "# Example of MRSI fitting on the command line\n",
    "\n",
    "This notebook demos the process of fitting an MRSI scan using the command line scripts included in FSL-MRS.\n",
    "### Contents:  \n",
    "- [1. Reconstruction, Processing and Data Conversion](#1.-Reconstruction,-Processing-and-Data-Conversion)\n",
    "- [2. Fitting](#2.-Fitting)\n",
    "- [3. Fitting](#3.-Fitting)\n",
    "- [4. Visualisation of fit](#4.-Visualisation-of-fit)\n",
    "\n",
    "Will Clarke  \n",
    "June 2020  \n",
    "University of Oxford"
   ]
  },
  {
   "cell_type": "markdown",
   "metadata": {},
   "source": [
    "## 1. Reconstruction, processing and data conversion\n",
    "\n",
    "MRSI reconstruction (from k-space data) can be highly specialised depending on the sequence. For example reconstruction of non-cartesian trajectories (e.g. spirals or concentric-rings) requires regridding or use of the NUFFT. Due to the specialised nature of MRSI reconstruction FSL-MRS does not contain tools for this step.\n",
    "\n",
    "Simmilarly post-processing of MRSI data is commonly done as part of the reconstruction process. Though many of the processing tools in FSL-MRS can be run on MRSI data they have not been created with MRSI in mind.\n",
    "\n",
    "This example therefore assumes that you are able to provide reconstructed and processed data ready for fitting. Data can be converted to NIfTI from the Siemens DICOM format using spec2nii. The authors of FSL-MRS and spec2nii are happy to add supported formats if example data and interpretation is provided."
   ]
  },
  {
   "cell_type": "markdown",
   "metadata": {},
   "source": [
    "## 2. Tissue segmentation\n",
    "\n",
    "Tissue segmentation is required to have meaningful scaling of water referenced metabolite concentrations. mrsi_segment will produce three files, corresponding to the GM, WM and CSF FAST tissue segmentations registered to the MRSI volume.\n",
    "\n",
    "Run tissue segmentation on the packaged T1 data and mask using the SVS voxel. Here we provide a (partial) .anat file produced by [fsl_anat](https://fsl.fmrib.ox.ac.uk/fsl/fslwiki/fsl_anat) to speed up execution.\n",
    "\n",
    "This step requires an installation of FSL compatible with fslpy."
   ]
  },
  {
   "cell_type": "code",
   "execution_count": 4,
   "metadata": {},
   "outputs": [],
   "source": [
    "%%capture\n",
    "%sx mkdir MRSI\n",
    "%sx mrsi_segment -o MRSI -a example_data/example_mrsi/T1.anat example_data/example_mrsi/FID_Metab.nii.gz"
   ]
  },
  {
   "cell_type": "markdown",
   "metadata": {},
   "source": [
    "## 3. Fitting"
   ]
  },
  {
   "cell_type": "code",
   "execution_count": 13,
   "metadata": {},
   "outputs": [
    {
     "data": {
      "text/plain": [
       "['',\n",
       " '',\n",
       " '',\n",
       " '-----------------------------------------------------',\n",
       " '',\n",
       " '',\n",
       " '',\n",
       " '',\n",
       " '     _____ ____  _          __  __ ____  ____ ___ ',\n",
       " '    |  ___/ ___|| |        |  \\\\/  |  _ \\\\/ ___|_ _|',\n",
       " '    | |_  \\\\___ \\\\| |   _____| |\\\\/| | |_) \\\\___ \\\\| | ',\n",
       " '    |  _|  ___) | |__|_____| |  | |  _ < ___) | | ',\n",
       " '    |_|   |____/|_____|    |_|  |_|_| \\\\_\\\\____/___|',\n",
       " '                    ',\n",
       " '    ',\n",
       " '',\n",
       " '',\n",
       " '',\n",
       " '-----------------------------------------------------',\n",
       " '',\n",
       " '',\n",
       " '',\n",
       " '',\n",
       " '--->> Start fitting',\n",
       " '',\n",
       " '',\n",
       " '    Algorithm = [Newton]',\n",
       " '',\n",
       " '    Initialise with average fit',\n",
       " '    Parallelising over 8 workers ',\n",
       " '    96 Voxels remaining    ',\n",
       " '    96 Voxels remaining    ',\n",
       " '    96 Voxels remaining    ',\n",
       " '    96 Voxels remaining    ',\n",
       " '    96 Voxels remaining    ',\n",
       " '    96 Voxels remaining    ',\n",
       " '    90 Voxels remaining    ',\n",
       " '    72 Voxels remaining    ',\n",
       " '    72 Voxels remaining    ',\n",
       " '    72 Voxels remaining    ',\n",
       " '    72 Voxels remaining    ',\n",
       " '    72 Voxels remaining    ',\n",
       " '    72 Voxels remaining    ',\n",
       " '    48 Voxels remaining    ',\n",
       " '    48 Voxels remaining    ',\n",
       " '    48 Voxels remaining    ',\n",
       " '    48 Voxels remaining    ',\n",
       " '    48 Voxels remaining    ',\n",
       " '    48 Voxels remaining    ',\n",
       " '    48 Voxels remaining    ',\n",
       " '    24 Voxels remaining    ',\n",
       " '    24 Voxels remaining    ',\n",
       " '    24 Voxels remaining    ',\n",
       " '    24 Voxels remaining    ',\n",
       " '    24 Voxels remaining    ',\n",
       " '    24 Voxels remaining    ',\n",
       " '--->> Saving output files to MRSI/example_mrsi_fit',\n",
       " '',\n",
       " '',\n",
       " '',\n",
       " '',\n",
       " 'Done.']"
      ]
     },
     "execution_count": 13,
     "metadata": {},
     "output_type": "execute_result"
    }
   ],
   "source": [
    "%sx fsl_mrsi --data example_data/example_mrsi/mrsi.nii.gz \\\n",
    "             --basis example_data/example_mrsi/3T_slaser_32vespa_1250.BASIS \\\n",
    "             --output MRSI/example_mrsi_fit \\\n",
    "             --mask example_data/example_mrsi/mask.nii.gz \\\n",
    "             --h2o example_data/example_mrsi/wref.nii.gz \\\n",
    "             --tissue_frac MRSI/mrsi_seg_wm.nii.gz MRSI/mrsi_seg_gm.nii.gz MRSI/mrsi_seg_csf.nii.gz \\\n",
    "             --add_MM \\\n",
    "             --TE 30 \\\n",
    "             --baseline_order 4 \\\n",
    "             --combine PCho GPC --combine Cr PCr --combine NAA NAAG --combine Glu Gln --combine Glc Tau \\\n",
    "             --ignore Gly HG \\\n",
    "             --overwrite"
   ]
  },
  {
   "cell_type": "markdown",
   "metadata": {},
   "source": [
    "## 4. Visualisation of fit\n",
    "Now take a look at the outputs "
   ]
  },
  {
   "cell_type": "code",
   "execution_count": 29,
   "metadata": {},
   "outputs": [
    {
     "data": {
      "text/plain": [
       "['concs', 'fit', 'fit_avg.png', 'options.txt', 'qc', 'uncertainties']"
      ]
     },
     "execution_count": 29,
     "metadata": {},
     "output_type": "execute_result"
    }
   ],
   "source": [
    "%sx ls MRSI/example_mrsi_fit"
   ]
  },
  {
   "cell_type": "code",
   "execution_count": 30,
   "metadata": {},
   "outputs": [],
   "source": [
    "%%capture\n",
    "%sx pythonw $(which fsleyes) example_data/example_mrsi/T1.anat/T1.nii.gz MRSI/example_mrsi_fit/fit/fit.nii.gz MRSI/example_mrsi_fit/concs/molarity/NAA+NAAG.nii.gz"
   ]
  }
 ],
 "metadata": {
  "kernelspec": {
   "display_name": "Python 3",
   "language": "python",
   "name": "python3"
  },
  "language_info": {
   "codemirror_mode": {
    "name": "ipython",
    "version": 3
   },
   "file_extension": ".py",
   "mimetype": "text/x-python",
   "name": "python",
   "nbconvert_exporter": "python",
   "pygments_lexer": "ipython3",
   "version": "3.7.7"
  }
 },
 "nbformat": 4,
 "nbformat_minor": 4
}
