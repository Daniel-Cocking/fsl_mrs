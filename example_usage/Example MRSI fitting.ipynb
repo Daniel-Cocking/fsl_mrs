{
 "cells": [
  {
   "cell_type": "markdown",
   "metadata": {},
   "source": [
    "# Example of MRSI fitting on the command line\n",
    "\n",
    "This notebook demos the process of fitting an MRSI scan using the command line scripts included in FSL-MRS.\n",
    "### Contents:  \n",
    "- [1. Reconstruction, Processing and Data Conversion](#1.-Reconstruction,-processing-and-data-conversion)\n",
    "- [2. Segmentation](#2.-Tissue-segmentation)\n",
    "- [3. Fitting](#3.-Fitting)\n",
    "- [4. Visualisation of fit](#4.-Visualisation-of-fit)\n",
    "\n",
    "Will Clarke  \n",
    "June 2020  \n",
    "University of Oxford"
   ]
  },
  {
   "cell_type": "markdown",
   "metadata": {},
   "source": [
    "## 1. Reconstruction, processing and data conversion\n",
    "\n",
    "MRSI reconstruction (from k-space data) can be highly specialised depending on the sequence. For example reconstruction of non-cartesian trajectories (e.g. spirals or concentric-rings) requires regridding or use of the NUFFT. Due to the specialised nature of MRSI reconstruction FSL-MRS does not contain tools for this step.\n",
    "\n",
    "Simmilarly post-processing of MRSI data is commonly done as part of the reconstruction process. Though many of the processing tools in FSL-MRS can be run on MRSI data they have not been created with MRSI in mind.\n",
    "\n",
    "This example therefore assumes that you are able to provide reconstructed and processed data ready for fitting. Data can be converted to NIfTI from the Siemens DICOM format using spec2nii. The authors of FSL-MRS and spec2nii are happy to add supported formats if example data and interpretation is provided."
   ]
  },
  {
   "cell_type": "markdown",
   "metadata": {},
   "source": [
    "## 2. Tissue segmentation\n",
    "\n",
    "Tissue segmentation is required to have meaningful scaling of water referenced metabolite concentrations. mrsi_segment will produce three files, corresponding to the GM, WM and CSF FAST tissue segmentations registered to the MRSI volume.\n",
    "\n",
    "Run tissue segmentation on the packaged T1 data and mask using the MRSI data file. Here we provide a (partial) .anat file produced by [fsl_anat](https://fsl.fmrib.ox.ac.uk/fsl/fslwiki/fsl_anat) to speed up execution.\n",
    "\n",
    "This step requires an installation of FSL compatible with fslpy."
   ]
  },
  {
   "cell_type": "code",
   "execution_count": null,
   "metadata": {},
   "outputs": [],
   "source": [
    "#%%capture\n",
    "%sx mkdir -p MRSI\n",
    "%sx mrsi_segment -o MRSI -a example_data/example_mrsi/T1.anat example_data/example_mrsi/mrsi.nii.gz"
   ]
  },
  {
   "cell_type": "markdown",
   "metadata": {},
   "source": [
    "## 3. Fitting\n",
    "\n",
    "The below is a call to the main MRSI wrapper script. Note the use of the `--add_MM` flag as this metabolite basis does not contain a macromolecule basis. Also note that the mrsi dataset provided is accompagnied by a JSON sidecar file which contains some useful information such as the echo time, the central frequency, and the dwell time.\n",
    "\n",
    "The script will by default run in parallel on the available CPU cores. Depending on hardware this should take a few minutes.\n"
   ]
  },
  {
   "cell_type": "code",
   "execution_count": null,
   "metadata": {},
   "outputs": [],
   "source": [
    "%sx fsl_mrsi --data example_data/example_mrsi/mrsi.nii.gz \\\n",
    "             --basis example_data/example_mrsi/3T_slaser_32vespa_1250.BASIS \\\n",
    "             --output MRSI/example_mrsi_fit \\\n",
    "             --mask example_data/example_mrsi/mask.nii.gz \\\n",
    "             --h2o example_data/example_mrsi/wref.nii.gz \\\n",
    "             --tissue_frac MRSI/mrsi_seg_wm.nii.gz MRSI/mrsi_seg_gm.nii.gz MRSI/mrsi_seg_csf.nii.gz \\\n",
    "             --add_MM \\\n",
    "             --baseline_order 2 \\\n",
    "             --combine PCho GPC --combine Cr PCr --combine NAA NAAG --combine Glu Gln --combine Glc Tau \\\n",
    "             --ignore Gly Gly_1 HG \\\n",
    "             --overwrite"
   ]
  },
  {
   "cell_type": "markdown",
   "metadata": {},
   "source": [
    "## 4. Visualisation of fit\n",
    "\n",
    "Now take a look at the outputs. A PNG of the fit to the average of all voxels is provided for a quick sanity check. The folders contain the following:\n",
    "\n",
    "- concs         : concentration for each metabolite or combined metabolites (subfolders contain different types of referencing)\n",
    "- fit           : the model prediction FID, the residual FID, and the baseline (also in the time domain).\n",
    "- qc            : QC parameters split per metabolite\n",
    "- uncertainties : the std of the fit per metabolite\n"
   ]
  },
  {
   "cell_type": "code",
   "execution_count": null,
   "metadata": {},
   "outputs": [],
   "source": [
    "%sx ls -l MRSI/example_mrsi_fit"
   ]
  },
  {
   "cell_type": "markdown",
   "metadata": {},
   "source": [
    "Now run the command below in a terminal in order to load the data in FSLeyes. You will need to install the NIfTI-MRS plugin for FSLeyes. Instructions for installation are available [online](https://open.win.ox.ac.uk/pages/wclarke/fsleyes-plugin-mrs/install.html).\n",
    "\n",
    "Then follow the the instructions [here](https://open.win.ox.ac.uk/pages/wclarke/fsleyes-plugin-mrs/mrsi_results.html) to set it up in such a way that you can explore each voxel's individual fit.\n",
    "\n",
    "To get started, after installing the plugin, run the following command:\n",
    "\n",
    "```\n",
    "fsleyes -smrs example_data/example_mrsi/T1.anat/T1.nii.gz example_data/example_mrsi/mrsi.nii.gz\n",
    "```"
   ]
  },
  {
   "cell_type": "code",
   "execution_count": null,
   "metadata": {},
   "outputs": [],
   "source": [
    "%sx fsleyes -smrs example_data/example_mrsi/T1.anat/T1.nii.gz example_data/example_mrsi/mrsi.nii.gz"
   ]
  }
 ],
 "metadata": {
  "kernelspec": {
   "display_name": "Python 3",
   "language": "python",
   "name": "python3"
  },
  "language_info": {
   "codemirror_mode": {
    "name": "ipython",
    "version": 3
   },
   "file_extension": ".py",
   "mimetype": "text/x-python",
   "name": "python",
   "nbconvert_exporter": "python",
   "pygments_lexer": "ipython3",
   "version": "3.8.10"
  }
 },
 "nbformat": 4,
 "nbformat_minor": 4
}
