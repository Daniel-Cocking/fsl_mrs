{
 "cells": [
  {
   "cell_type": "markdown",
   "metadata": {},
   "source": [
    "# Command-line conversion of LCModel basis set\n",
    "This notebook demonstrates the conversion of an existing LCModel basis set (`.basis` format).\n",
    "\n",
    "In addition to the basic conversion step, three extra steps are performed:\n",
    "1. Removal of the TMS peak from all spectra\n",
    "2. Removal of duplicated and unwanted basis spectra\n",
    "3. Addition of FSL-MRS default MM peaks\n",
    "\n",
    "This converted spectrum will subsequently be used to fit the example MRSI data.\n",
    "\n",
    "## Step 1 - conversion\n",
    "We use the `basis_tools` command to convert the basis set. The conversion process preserved the phase/frequency convention fot he LCModel basis set. So to match that expected by FSL-MRS we also reverse it.\n",
    "    "
   ]
  },
  {
   "cell_type": "code",
   "execution_count": 3,
   "metadata": {},
   "outputs": [
    {
     "name": "stderr",
     "output_type": "stream",
     "text": [
      "Traceback (most recent call last):\n",
      "  File \"/home/ppzdc/miniconda3/envs/fsl_mrs_env/bin/basis_tools\", line 33, in <module>\n",
      "    sys.exit(load_entry_point('fsl-mrs', 'console_scripts', 'basis_tools')())\n",
      "  File \"/mnt/d/git/fsl_mrs/fsl_mrs/scripts/basis_tools.py\", line 224, in main\n",
      "    args.func(args)\n",
      "  File \"/mnt/d/git/fsl_mrs/fsl_mrs/scripts/basis_tools.py\", line 260, in convert\n",
      "    from fsl_mrs.utils import basis_tools\n",
      "  File \"/mnt/d/git/fsl_mrs/fsl_mrs/utils/basis_tools.py\", line 17, in <module>\n",
      "    from fsl_mrs.utils.preproc import hlsvd, zero_spectrum\n",
      "  File \"/mnt/d/git/fsl_mrs/fsl_mrs/utils/preproc/__init__.py\", line 4, in <module>\n",
      "    from fsl_mrs.utils.preproc.phasing import phaseCorrect, applyPhase, applyLinPhase\n",
      "  File \"/mnt/d/git/fsl_mrs/fsl_mrs/utils/preproc/phasing.py\", line 15, in <module>\n",
      "    from fsl_mrs.utils.preproc.remove import hlsvd\n",
      "  File \"/mnt/d/git/fsl_mrs/fsl_mrs/utils/preproc/remove.py\", line 10, in <module>\n",
      "    import hlsvdpropy\n",
      "  File \"/home/ppzdc/miniconda3/envs/fsl_mrs_env/lib/python3.9/site-packages/hlsvdpropy/__init__.py\", line 21, in <module>\n",
      "    import pkg_resources\n",
      "  File \"/home/ppzdc/miniconda3/envs/fsl_mrs_env/lib/python3.9/site-packages/pkg_resources/__init__.py\", line 3283, in <module>\n",
      "    def _initialize_master_working_set():\n",
      "  File \"/home/ppzdc/miniconda3/envs/fsl_mrs_env/lib/python3.9/site-packages/pkg_resources/__init__.py\", line 3266, in _call_aside\n",
      "    f(*args, **kwargs)\n",
      "  File \"/home/ppzdc/miniconda3/envs/fsl_mrs_env/lib/python3.9/site-packages/pkg_resources/__init__.py\", line 3295, in _initialize_master_working_set\n",
      "    working_set = _declare_state('object', 'working_set', WorkingSet._build_master())\n",
      "  File \"/home/ppzdc/miniconda3/envs/fsl_mrs_env/lib/python3.9/site-packages/pkg_resources/__init__.py\", line 589, in _build_master\n",
      "    ws.require(__requires__)\n",
      "  File \"/home/ppzdc/miniconda3/envs/fsl_mrs_env/lib/python3.9/site-packages/pkg_resources/__init__.py\", line 926, in require\n",
      "    needed = self.resolve(parse_requirements(requirements))\n",
      "  File \"/home/ppzdc/miniconda3/envs/fsl_mrs_env/lib/python3.9/site-packages/pkg_resources/__init__.py\", line 787, in resolve\n",
      "    dist = self._resolve_dist(\n",
      "  File \"/home/ppzdc/miniconda3/envs/fsl_mrs_env/lib/python3.9/site-packages/pkg_resources/__init__.py\", line 816, in _resolve_dist\n",
      "    env = Environment(self.entries)\n",
      "  File \"/home/ppzdc/miniconda3/envs/fsl_mrs_env/lib/python3.9/site-packages/pkg_resources/__init__.py\", line 1014, in __init__\n",
      "    self.scan(search_path)\n",
      "  File \"/home/ppzdc/miniconda3/envs/fsl_mrs_env/lib/python3.9/site-packages/pkg_resources/__init__.py\", line 1046, in scan\n",
      "    for dist in find_distributions(item):\n",
      "  File \"/home/ppzdc/miniconda3/envs/fsl_mrs_env/lib/python3.9/site-packages/pkg_resources/__init__.py\", line 2091, in find_on_path\n",
      "    yield from factory(fullpath)\n",
      "  File \"/home/ppzdc/miniconda3/envs/fsl_mrs_env/lib/python3.9/site-packages/pkg_resources/__init__.py\", line 2183, in resolve_egg_link\n",
      "    return next(dist_groups, ())\n",
      "  File \"/home/ppzdc/miniconda3/envs/fsl_mrs_env/lib/python3.9/site-packages/pkg_resources/__init__.py\", line 2179, in <genexpr>\n",
      "    resolved_paths = (\n",
      "  File \"/home/ppzdc/miniconda3/envs/fsl_mrs_env/lib/python3.9/site-packages/pkg_resources/__init__.py\", line 2167, in non_empty_lines\n",
      "    for line in _read_utf8_with_fallback(path).splitlines():\n",
      "NameError: name '_read_utf8_with_fallback' is not defined\n",
      "Traceback (most recent call last):\n",
      "  File \"/home/ppzdc/miniconda3/envs/fsl_mrs_env/bin/basis_tools\", line 33, in <module>\n",
      "    sys.exit(load_entry_point('fsl-mrs', 'console_scripts', 'basis_tools')())\n",
      "  File \"/mnt/d/git/fsl_mrs/fsl_mrs/scripts/basis_tools.py\", line 224, in main\n",
      "    args.func(args)\n",
      "  File \"/mnt/d/git/fsl_mrs/fsl_mrs/scripts/basis_tools.py\", line 392, in conj\n",
      "    from fsl_mrs.utils import basis_tools\n",
      "  File \"/mnt/d/git/fsl_mrs/fsl_mrs/utils/basis_tools.py\", line 17, in <module>\n",
      "    from fsl_mrs.utils.preproc import hlsvd, zero_spectrum\n",
      "  File \"/mnt/d/git/fsl_mrs/fsl_mrs/utils/preproc/__init__.py\", line 4, in <module>\n",
      "    from fsl_mrs.utils.preproc.phasing import phaseCorrect, applyPhase, applyLinPhase\n",
      "  File \"/mnt/d/git/fsl_mrs/fsl_mrs/utils/preproc/phasing.py\", line 15, in <module>\n",
      "    from fsl_mrs.utils.preproc.remove import hlsvd\n",
      "  File \"/mnt/d/git/fsl_mrs/fsl_mrs/utils/preproc/remove.py\", line 10, in <module>\n",
      "    import hlsvdpropy\n",
      "  File \"/home/ppzdc/miniconda3/envs/fsl_mrs_env/lib/python3.9/site-packages/hlsvdpropy/__init__.py\", line 21, in <module>\n",
      "    import pkg_resources\n",
      "  File \"/home/ppzdc/miniconda3/envs/fsl_mrs_env/lib/python3.9/site-packages/pkg_resources/__init__.py\", line 3283, in <module>\n",
      "    def _initialize_master_working_set():\n",
      "  File \"/home/ppzdc/miniconda3/envs/fsl_mrs_env/lib/python3.9/site-packages/pkg_resources/__init__.py\", line 3266, in _call_aside\n",
      "    f(*args, **kwargs)\n",
      "  File \"/home/ppzdc/miniconda3/envs/fsl_mrs_env/lib/python3.9/site-packages/pkg_resources/__init__.py\", line 3295, in _initialize_master_working_set\n",
      "    working_set = _declare_state('object', 'working_set', WorkingSet._build_master())\n",
      "  File \"/home/ppzdc/miniconda3/envs/fsl_mrs_env/lib/python3.9/site-packages/pkg_resources/__init__.py\", line 589, in _build_master\n",
      "    ws.require(__requires__)\n",
      "  File \"/home/ppzdc/miniconda3/envs/fsl_mrs_env/lib/python3.9/site-packages/pkg_resources/__init__.py\", line 926, in require\n",
      "    needed = self.resolve(parse_requirements(requirements))\n",
      "  File \"/home/ppzdc/miniconda3/envs/fsl_mrs_env/lib/python3.9/site-packages/pkg_resources/__init__.py\", line 787, in resolve\n",
      "    dist = self._resolve_dist(\n",
      "  File \"/home/ppzdc/miniconda3/envs/fsl_mrs_env/lib/python3.9/site-packages/pkg_resources/__init__.py\", line 816, in _resolve_dist\n",
      "    env = Environment(self.entries)\n",
      "  File \"/home/ppzdc/miniconda3/envs/fsl_mrs_env/lib/python3.9/site-packages/pkg_resources/__init__.py\", line 1014, in __init__\n",
      "    self.scan(search_path)\n",
      "  File \"/home/ppzdc/miniconda3/envs/fsl_mrs_env/lib/python3.9/site-packages/pkg_resources/__init__.py\", line 1046, in scan\n",
      "    for dist in find_distributions(item):\n",
      "  File \"/home/ppzdc/miniconda3/envs/fsl_mrs_env/lib/python3.9/site-packages/pkg_resources/__init__.py\", line 2091, in find_on_path\n",
      "    yield from factory(fullpath)\n",
      "  File \"/home/ppzdc/miniconda3/envs/fsl_mrs_env/lib/python3.9/site-packages/pkg_resources/__init__.py\", line 2183, in resolve_egg_link\n",
      "    return next(dist_groups, ())\n",
      "  File \"/home/ppzdc/miniconda3/envs/fsl_mrs_env/lib/python3.9/site-packages/pkg_resources/__init__.py\", line 2179, in <genexpr>\n",
      "    resolved_paths = (\n",
      "  File \"/home/ppzdc/miniconda3/envs/fsl_mrs_env/lib/python3.9/site-packages/pkg_resources/__init__.py\", line 2167, in non_empty_lines\n",
      "    for line in _read_utf8_with_fallback(path).splitlines():\n",
      "NameError: name '_read_utf8_with_fallback' is not defined\n"
     ]
    },
    {
     "data": {
      "text/plain": [
       "256"
      ]
     },
     "execution_count": 3,
     "metadata": {},
     "output_type": "execute_result"
    }
   ],
   "source": [
    "%sx basis_tools convert example_data/example_mrsi/3T_slaser_32vespa_1250.BASIS 3T_slaser_32vespa_1250\n",
    "%sx basis_tools conj 3T_slaser_32vespa_1250 3T_slaser_32vespa_1250"
   ]
  },
  {
   "cell_type": "markdown",
   "metadata": {},
   "source": [
    "Let's view the converted basis set"
   ]
  },
  {
   "cell_type": "code",
   "execution_count": null,
   "metadata": {},
   "outputs": [],
   "source": [
    "from fsl_mrs.utils import mrs_io\n",
    "import matplotlib.pyplot as plt\n",
    "basis = mrs_io.read_basis('3T_slaser_32vespa_1250')\n",
    "fig = plt.figure(figsize=(8, 8))\n",
    "_ = basis.plot()"
   ]
  },
  {
   "cell_type": "markdown",
   "metadata": {},
   "source": [
    "## Step 2 - reference peak removal\n",
    "LCModel basis sets have a reference peak in them at 0.0 ppm. This is removed by default in LCModel, but it isn't expected in FSL-MRS. Even the peak falls outside the default optimisation region, if you leave the reference peak in the summation across all metabolites can grow so large (as everything is scaled) that the peak distorts the baseline.\n",
    "\n",
    "We use the option `--remove_reference` to accomplish this. `--hlsvd` is added to make the removal more precise (at the cost of longer processing time)."
   ]
  },
  {
   "cell_type": "code",
   "execution_count": null,
   "metadata": {},
   "outputs": [],
   "source": [
    "%sx basis_tools convert example_data/example_mrsi/3T_slaser_32vespa_1250.BASIS 3T_slaser_32vespa_1250_noTMS --remove_reference --hlsvd\n",
    "%sx basis_tools conj 3T_slaser_32vespa_1250_noTMS 3T_slaser_32vespa_1250_noTMS\n",
    "\n",
    "basis = mrs_io.read_basis('3T_slaser_32vespa_1250_noTMS')\n",
    "fig = plt.figure(figsize=(8, 8))\n",
    "_ = basis.plot()"
   ]
  },
  {
   "cell_type": "markdown",
   "metadata": {},
   "source": [
    "## Step 3 - Remove duplicated basis spectra\n",
    "No reference peaks any more! But we notice that there are two Gly basis sets. Are these actually identical?"
   ]
  },
  {
   "cell_type": "code",
   "execution_count": null,
   "metadata": {},
   "outputs": [],
   "source": [
    "import numpy as np\n",
    "np.allclose(\n",
    "    basis.original_basis_array[:, basis.names.index('Gly_1')],\n",
    "    basis.original_basis_array[:, basis.names.index('Gly')])"
   ]
  },
  {
   "cell_type": "markdown",
   "metadata": {},
   "source": [
    "Ok, that's not good for the optimisation. We will remove the duplicate. Let's also say we aren't interested in 'HG' and we will also remove that metabolite."
   ]
  },
  {
   "cell_type": "code",
   "execution_count": null,
   "metadata": {},
   "outputs": [],
   "source": [
    "%sx rm 3T_slaser_32vespa_1250_noTMS/Gly_1.json\n",
    "%sx rm 3T_slaser_32vespa_1250_noTMS/HG.json\n",
    "\n",
    "basis = mrs_io.read_basis('3T_slaser_32vespa_1250_noTMS')\n",
    "fig = plt.figure(figsize=(8, 8))\n",
    "_ = basis.plot()\n",
    "plt.xlim([5, 0])\n",
    "plt.show()"
   ]
  },
  {
   "cell_type": "markdown",
   "metadata": {},
   "source": [
    "## Step 4 - Add default MM peaks\n",
    "The above looks good now. But you notice that there aren't any macromolecular peaks, and this is a basis set for spectra with a 32 ms echo time. We therefore need to include suitable MM peaks. Ideally this is done with a measured (metabolite nulled) MM spectrum (see the example_usage/Example basis spectra creation.ipynb notebook), but we can use the FSL-MRS 'default' MM as a (poor) alternative.\n",
    "\n",
    "We do this by running the `basis_tools add_set` command with the `--add_MM` option.\n"
   ]
  },
  {
   "cell_type": "code",
   "execution_count": null,
   "metadata": {},
   "outputs": [],
   "source": [
    "%sx basis_tools add_set --add_MM 3T_slaser_32vespa_1250_noTMS 3T_slaser_32vespa_1250_noTMS_defaultMM\n",
    "\n",
    "basis = mrs_io.read_basis('3T_slaser_32vespa_1250_noTMS_defaultMM')\n",
    "fig = plt.figure(figsize=(8, 8))\n",
    "_ = basis.plot()\n",
    "plt.xlim([5, 0])\n",
    "plt.show()"
   ]
  },
  {
   "cell_type": "markdown",
   "metadata": {},
   "source": [
    "## Conclusion\n",
    "We've successfully converted an LCModel formatted basis set and added some default MM peaks. We can now use this in fitting of MRSI data!"
   ]
  }
 ],
 "metadata": {
  "kernelspec": {
   "display_name": "Python 3.8.12 ('fsl_mrs')",
   "language": "python",
   "name": "python3"
  },
  "language_info": {
   "codemirror_mode": {
    "name": "ipython",
    "version": 3
   },
   "file_extension": ".py",
   "mimetype": "text/x-python",
   "name": "python",
   "nbconvert_exporter": "python",
   "pygments_lexer": "ipython3",
   "version": "3.9.19"
  },
  "orig_nbformat": 4,
  "vscode": {
   "interpreter": {
    "hash": "6c11d37c82810953c5a08a185ec224dab920e965fab2a4fd7bf60d843c04e747"
   }
  }
 },
 "nbformat": 4,
 "nbformat_minor": 2
}
