version https://git-lfs.github.com/spec/v1
oid sha256:d15171091a19a53ce0110f073110d29e58e5a088e3b4c69bafa0c50ed26b250c
size 26943
