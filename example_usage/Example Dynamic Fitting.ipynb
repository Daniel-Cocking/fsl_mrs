{
 "cells": [
  {
   "cell_type": "markdown",
   "metadata": {},
   "source": [
    "# Dynamic fitting of simulated diffusion weighted MRS.\n",
    "\n",
    "This notebook demonstrates use of the FSL-MRS dynamic fitting tools.\n",
    "\n",
    "The demonstration is performed on synthetic data made for the dwMRS workshop in Leiden in 2021. The data and basis set can be downloaded from [GitHub](https://github.com/dwmrshub/pregame-workshop-2021).\n",
    "\n",
    "The notebook demonstrates:\n",
    "1. How to generate the necessary configuration model file\n",
    "2. Use the dynamic fitting tools in Python e.g. in an interactive notebook.\n",
    "3. Run the identical analysis using the command line tools.\n",
    "\n",
    "The same tools can be used for fMRS (and other things). An extensive [fMRS demo](https://github.com/wtclarke/fsl_mrs_fmrs_demo) is hosted online on Github.\n",
    "\n",
    "## 1. Data load and exploration.\n",
    "We will load the data to examine it and try fitting an average spectrum to assess the suitability of fitting options and the basis set."
   ]
  },
  {
   "cell_type": "code",
   "execution_count": null,
   "metadata": {},
   "outputs": [],
   "source": [
    "# Define some data files for each spectrum\n",
    "data_location = 'example_data/example_dwmrs/metab.nii.gz'\n",
    "basis_location = 'example_data/example_dwmrs/basis'"
   ]
  },
  {
   "cell_type": "markdown",
   "metadata": {},
   "source": [
    "Load the data and plot it."
   ]
  },
  {
   "cell_type": "code",
   "execution_count": null,
   "metadata": {},
   "outputs": [],
   "source": [
    "from fsl_mrs.utils import mrs_io\n",
    "from fsl_mrs.utils import plotting as splot\n",
    "\n",
    "data = mrs_io.read_FID(data_location)\n",
    "bvals = data.dynamic_hdr_vals()[-1].flatten().astype(float)\n",
    "mrslist = data.mrs()\n",
    "\n",
    "splot.plotly_dynMRS(mrslist, time_var=bvals, ppmlim=(0, 5))"
   ]
  },
  {
   "cell_type": "markdown",
   "metadata": {},
   "source": [
    "The data looks like we expect; as b-value increases we see a decrease in the amplitude of the metabolites. You might notice three things:\n",
    "1. There is a residual water peak at 4.65 ppm. That needs to be modelled in the basis set, and furthermore the rate of amplitude decrease is much higher compared to the metabolites.\n",
    "2. There are macromolecules visible in the spectrum, but even at high b-values they are still present (and not that much smaller than at b=0).\n",
    "3. The baseline varies with b-value.\n",
    "\n",
    "We now want to see whether we can fit the data with the basis set we have. There's no point in continuing with the vastly more complex dynamic fit if we don't have a good description of the underlying metabolite signal to work with.\n",
    "\n",
    "We will pick some spectral fitting options. These are a ppm range including the water peak (up to 5 ppm). A low order baseline as there is a predominantly flat baseline. A simple lineshape model (no Gaussian broadening). We separate the water and macromolecule (H20 & Mac) into their own groups as they are likely to need their own metabolite broadening parameters."
   ]
  },
  {
   "cell_type": "code",
   "execution_count": null,
   "metadata": {},
   "outputs": [],
   "source": [
    "from fsl_mrs.utils.misc import parse_metab_groups\n",
    "from fsl_mrs.utils import fitting\n",
    "\n",
    "# select just the first (b value = 0) spectrum to test the fitting on\n",
    "# this time the basis set is loaded alongside it.\n",
    "mrs0 = data.mrs(basis_file=basis_location)[0]\n",
    "# Check that the basis has the right phase/frequency convention\n",
    "mrs0.check_Basis(repair=True)\n",
    "\n",
    "# Select our fitting options\n",
    "Fitargs = {'ppmlim': (0.2, 5.0),\n",
    "           'baseline_order': 1,\n",
    "           'metab_groups': parse_metab_groups(mrs0, ['H2O', 'Mac']),\n",
    "           'model': 'lorentzian'}\n",
    "\n",
    "# Run the fitting\n",
    "res = fitting.fit_FSLModel(mrs0,**Fitargs)\n",
    "\n",
    "# Plot the result\n",
    "_ = splot.plot_fit(mrs0, res)"
   ]
  },
  {
   "cell_type": "markdown",
   "metadata": {},
   "source": [
    "# 2. The dynamic model\n",
    "\n",
    "Now we move on to the dynamic fitting part of this demo. We need to describe what our dynamic model is. We do this in a single python-formatted configuration file. In this configuration file we define:\n",
    "1. The correspondence between spectra fitting parameters (known as _mapped_ parameters) and any dynamic model parameters we define (known as _free_ parameters).\n",
    "2. Any bounds on the defined free parameters.\n",
    "3. Any functional forms that the free parameters and time variable describe to constrain the multiple spectra.\n",
    "\n",
    "We use the notebook 'magic' command %load to view what's in a preprepared config.py file"
   ]
  },
  {
   "cell_type": "code",
   "execution_count": null,
   "metadata": {},
   "outputs": [],
   "source": [
    "# %load example_data/example_dwmrs/config.py\n",
    "# ------------------------------------------------------------------------\n",
    "# User file for defining a model\n",
    "\n",
    "# Parameter behaviour\n",
    "# 'variable' : one per time point\n",
    "# 'fixed'    : same for all time points\n",
    "# 'dynamic'  : model-based change across time points\n",
    "\n",
    "# Each parameter of the spectral fitting gets a specific behaviour\n",
    "# The default behaviour is 'fixed'\n",
    "Parameters = {\n",
    "   'Phi_0'    : 'variable',\n",
    "   'Phi_1'    : 'fixed',\n",
    "   'conc'     : {'dynamic':'model_biexp','params':['c_amp','c_adc_slow','c_adc_fast','c_frac_slow']},\n",
    "   'eps'      : 'fixed',\n",
    "   'gamma'    : 'fixed',    \n",
    "   'baseline' : {'dynamic':'model_exp_offset','params':['b_amp','b_adc','b_off']}\n",
    "}\n",
    "\n",
    "# Optionally define bounds on the parameters\n",
    "Bounds = {\n",
    "    'c_amp'       : (0,None),\n",
    "    'c_adc_slow'  : (0,.1),\n",
    "    'c_adc_fast'  : (.1,4),\n",
    "    'c_frac_slow' : (0,1),\n",
    "    'gamma'       : (0,None),\n",
    "    'b_amp'       : (None,None),\n",
    "    'b_adc'       : (1E-5,3),\n",
    "    'b_off'       : (None,None)\n",
    "}\n",
    "\n",
    "# Dynamic models here\n",
    "# These define how the parameters of the dynamic models change as a function \n",
    "# of the time variable (in dwMRS, that is the bvalue)\n",
    "from numpy import exp\n",
    "from numpy import asarray\n",
    "from numpy import ones_like\n",
    "\n",
    "# Mono-exponential model with offset\n",
    "def model_exp_offset(p,t):\n",
    "    # p = [amp,adc,off]\n",
    "    return p[2]+p[0]*exp(-p[1]*t)\n",
    "\n",
    "# Bi-exponential model\n",
    "def model_biexp(p,t):\n",
    "    # p = [amp,adc1,adc2,frac]\n",
    "    return p[0]*(p[3]*exp(-p[1]*t)+(1-p[3])*exp(-p[2]*t))\n",
    "\n",
    "# ------------------------------------------------------------------------\n",
    "# Gradients\n",
    "# For each of the models defined above, specify the gradient\n",
    "# And call these functions using the same names as above with \n",
    "# '_grad' appended in the end\n",
    "def model_biexp_grad(p,t):\n",
    "    e1 = exp(-p[1]*t)\n",
    "    e2 = exp(-p[2]*t)\n",
    "    g0 = p[3]*e1+(1-p[3])*e2\n",
    "    g1 = p[0]*(-p[3]*t*e1)\n",
    "    g2 = p[0]*(-(1-p[3])*t*e2)\n",
    "    g3 = p[0]*(e1-e2)\n",
    "    return asarray([g0,g1,g2,g3])\n",
    "\n",
    "def model_exp_offset_grad(p,t):\n",
    "    e1 = exp(-p[1]*t)\n",
    "    g0 = e1\n",
    "    g1 = -t*p[0]*e1\n",
    "    g2 = ones_like(t)\n",
    "    return asarray([g0,g1,g2], dtype=object)\n"
   ]
  },
  {
   "cell_type": "markdown",
   "metadata": {},
   "source": [
    "The above file come in three parts\n",
    "\n",
    "#### Parameters variable (dict):\n",
    "For each spectral fitting parameter type (e.g. concentration, or line-shift `eps`) this dict parameter defines whether that parameter:\n",
    "- Takes a different (unconstrained) value for each b value - __variable__\n",
    "- Has a fixed value across all b values - __fixed__\n",
    "- Or is described by a function of the b value - __dynamic__\n",
    "\n",
    "For the last of the options (dynamic), a function and any associated free parameters are defined. E.g. Metabolite concentrations (`conc`) follow a bi-exponential function (model_biexp) and therefore have four parameters associated with them (`'c_amp'`, `'c_adc_slow'`, `'c_adc_fast'`, `'c_frac_slow'`). Metabolite linewidths (`gamma`), however are fixed.\n",
    "\n",
    "#### Bounds variable (dict):\n",
    "This dictionary provides lower and upper bounds for free parameters. By default parameters are unconstrained, equivalent to `(None, None)`. But if you want to provide an upper or lower bound, or both bounds on parameters that is done using this interface. For instance the parameter `c_frac_slow` can only vary between 0 and 1.\n",
    "\n",
    "#### Dynamic models and gradients (function definitions):\n",
    "If a mapped parameter has been identified as `dynamic` then a functional relationship between the mapped parameter and the time variable and free parameters must be given.\n",
    "\n",
    "These relationships are described using python functions. Each function listed in the `Parameters` dict must be defined. In addition a function providing the gradient of that function must be defined. E.g. `model_biexp` must be provided and so must `model_biexp_grad`."
   ]
  },
  {
   "cell_type": "markdown",
   "metadata": {},
   "source": [
    "# 3. Run the dynamic fitting.\n",
    "\n",
    "We are now ready to run our dynamic fitting. This will use the data and basis set we loaded, the b values, the configuration file we inspected, and the spectral fitting options we selected."
   ]
  },
  {
   "cell_type": "code",
   "execution_count": null,
   "metadata": {},
   "outputs": [],
   "source": [
    "import fsl_mrs.dynamic as dyn\n",
    "import numpy as np\n",
    "\n",
    "# ALl the data this time\n",
    "mrslist = data.mrs(basis_file=basis_location)\n",
    "# Check that the basis has the right phase/frequency convention\n",
    "for mrs in mrslist:\n",
    "    mrs.check_Basis(repair=True)\n",
    "\n",
    "dobj = dyn.dynMRS(\n",
    "        mrslist,\n",
    "        bvals,\n",
    "        config_file='example_data/example_dwmrs/config.py',\n",
    "        rescale=True,\n",
    "        **Fitargs)\n",
    "\n",
    "dres = dobj.fit()"
   ]
  },
  {
   "cell_type": "markdown",
   "metadata": {},
   "source": [
    "## 4. Results\n",
    "\n",
    "First let's inspect the fits to judge the quality."
   ]
  },
  {
   "cell_type": "code",
   "execution_count": null,
   "metadata": {},
   "outputs": [],
   "source": [
    "splot.plotly_dynMRS(mrslist, dres.reslist, dobj.time_var)"
   ]
  },
  {
   "cell_type": "markdown",
   "metadata": {},
   "source": [
    "That looks reasonable. We can see how each mapped parameter looks across b values, compared to the results from the independent initialisation fits.\n",
    "\n",
    "In the plot that will be generated the blue dots are the results from fitting each spectrum individually. The orange line is the mapped parameters (e.g. metabolite concentrations) extracted from the fitted free parameters. The orange line __is not__ a fit to the blue dots, but we would expect a close alignment for high SNR metabolites (e.g. NAA)."
   ]
  },
  {
   "cell_type": "code",
   "execution_count": null,
   "metadata": {},
   "outputs": [],
   "source": [
    "_ = dres.plot_mapped()"
   ]
  },
  {
   "cell_type": "markdown",
   "metadata": {},
   "source": [
    "We can then also inspect the fitted free parameters, which for the concentrations are the desired outputs.\n",
    "\n",
    "We can use some Pandas code to improve the look of this dataframe."
   ]
  },
  {
   "cell_type": "code",
   "execution_count": null,
   "metadata": {},
   "outputs": [],
   "source": [
    "cres = dres.collected_results()\n",
    "cres['conc'].style\\\n",
    "    .format(\n",
    "        formatter={\n",
    "            'c_amp': \"{:0.3f}\",\n",
    "            'c_adc_slow': \"{:0.3f}\",\n",
    "            'c_adc_fast': \"{:0.2f}\",\n",
    "            'c_frac_slow': \"{:0.2f}\",})"
   ]
  },
  {
   "cell_type": "markdown",
   "metadata": {},
   "source": [
    "## A more complex model\n",
    "It might not be appropriate to fit each metabolite with the same model. For instance a linear model for the macromolecules or a mon-exponential model for water might be more appropriate.\n",
    "\n",
    "FSL-MRS can achieve this using the same framework."
   ]
  },
  {
   "cell_type": "code",
   "execution_count": null,
   "metadata": {},
   "outputs": [],
   "source": [
    "mrslist = data.mrs(basis_file=basis_location)\n",
    "# Check that the basis has the right phase/frequency convention\n",
    "for mrs in mrslist:\n",
    "    mrs.check_Basis(repair=True)\n",
    "\n",
    "dobj2 = dyn.dynMRS(\n",
    "        mrslist,\n",
    "        bvals,\n",
    "        config_file='example_data/example_dwmrs/config_multi.py',\n",
    "        rescale=True,\n",
    "        **Fitargs)\n",
    "\n",
    "dres2 = dobj2.fit()"
   ]
  },
  {
   "cell_type": "code",
   "execution_count": null,
   "metadata": {},
   "outputs": [],
   "source": [
    "_ = dres2.plot_mapped()"
   ]
  },
  {
   "cell_type": "code",
   "execution_count": null,
   "metadata": {},
   "outputs": [],
   "source": [
    "cres2 = dres2.collected_results()\n",
    "cres2['conc']"
   ]
  }
 ],
 "metadata": {
  "interpreter": {
   "hash": "6c11d37c82810953c5a08a185ec224dab920e965fab2a4fd7bf60d843c04e747"
  },
  "kernelspec": {
   "display_name": "Python 3.8.12 ('fsl_mrs')",
   "language": "python",
   "name": "python3"
  },
  "language_info": {
   "codemirror_mode": {
    "name": "ipython",
    "version": 3
   },
   "file_extension": ".py",
   "mimetype": "text/x-python",
   "name": "python",
   "nbconvert_exporter": "python",
   "pygments_lexer": "ipython3",
   "version": "3.8.16"
  },
  "orig_nbformat": 4
 },
 "nbformat": 4,
 "nbformat_minor": 2
}
