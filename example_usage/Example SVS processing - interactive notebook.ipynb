version https://git-lfs.github.com/spec/v1
oid sha256:ffbcb320b27061c77e34bf1b024bb1ecab3aceb5700d8882790b0dacb91c5896
size 21407316
