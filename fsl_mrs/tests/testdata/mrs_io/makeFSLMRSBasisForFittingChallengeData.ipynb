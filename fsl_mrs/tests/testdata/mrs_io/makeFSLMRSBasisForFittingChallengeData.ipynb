version https://git-lfs.github.com/spec/v1
oid sha256:afbc84167944c3d02227e7d635c5e94aee55286e2cd3f5e7a088d05429eb8e55
size 345900
